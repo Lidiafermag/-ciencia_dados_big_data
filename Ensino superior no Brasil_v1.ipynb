{
 "cells": [
  {
   "cell_type": "markdown",
   "metadata": {},
   "source": [
    "ANÁLISE DE DADOS UTILIZANDO PYTHON\n",
    "\n",
    "1º EATAPA - DADOS\n",
    "   \n",
    "Será realizada a análise de dados referente a Educação Superior no Brasil, para isso, foram utilizadas base de dados disponibilizadas pelo Instituto Nacional de Estudos e Pesquisas Educacionais Anísio Teixeira Legislação e Documentos - INEP.\n",
    "\n",
    "Diante da diversidade que há no Brasil e da atual discusão referente a inclusão social e a adoção de politicas públicas em prol das minorias. Esta análise visa identificar o quantitativo de alunos indigenas e com deficiência que concluíram um curso superior entre o período de 2013 a 2017 no Brasil. Bem como a relação desse quantitativo com o quantitativo global da população indigena e da população de pessoas com deficiência.\n",
    "\n",
    "Foram utilizados os dados diponíveis no link: http://portal.inep.gov.br/microdados, opção Censo da Educação superior, anos de 2013 a 2017.\n"
   ]
  },
  {
   "cell_type": "code",
   "execution_count": 18,
   "metadata": {
    "scrolled": false
   },
   "outputs": [],
   "source": [
    "import numpy as np\n",
    "import pandas as pd\n",
    "import matplotlib.pyplot as plt\n",
    "plt.style.use('ggplot')\n",
    "\n",
    "#Extraindo as bases ano 2013 \n",
    "\n",
    "#Ano 2013\n",
    "data_ies_2013 = pd.read_csv(\"Desktop\\Projeto - Pandas\\Dados\\ies_2013.csv\", sep=\"|\", dtype=object, encoding=\"ANSI\")\n",
    "#data_ies_2013\n",
    "#data_docente = pd.read_csv(\"Desktop\\Projeto - Pandas\\Dados\\docente_2013.csv\", sep=\"|\", encoding=\"ANSI\")\n",
    "#data_docente\n",
    "#data_local_oferta = pd.read_csv(\"Desktop\\Projeto - Pandas\\Dados\\local_oferta_2013.csv\", sep=\"|\", encoding=\"ANSI\")\n",
    "#data_local_oferta\n",
    "#data_aluno = pd.read_csv('Desktop/Projeto - Pandas/Dados/aluno_2013.csv', sep=\"|\", encoding=\"ANSI\")\n",
    "#data_aluno\n",
    "\n",
    "\n",
    "\n",
    "\n",
    "\n",
    "\n",
    "\n",
    "\n",
    "\n",
    "\n",
    "\n"
   ]
  },
  {
   "cell_type": "markdown",
   "metadata": {},
   "source": [
    "2º ETAPA - LIMPEZA E PREPARAÇÃO DOS DADOS\n",
    "\n",
    "Nesta etapa foram tratados:\n",
    "- Os dados ausentes. \n",
    "- Foram identificados os dados ausentes e substituídos por dados.\n"
   ]
  },
  {
   "cell_type": "code",
   "execution_count": null,
   "metadata": {},
   "outputs": [],
   "source": [
    "import numpy as np\n",
    "import pandas as pd\n",
    "import matplotlib.pyplot as plt\n",
    "plt.style.use('ggplot')\n",
    "\n",
    "#Criando Data Frame com as colunas necessárias\n",
    "#data_ies_colunas = pd.DataFrame(data_ies, columns=['CO_IES',  'NO_IES',  'SGL_IES', 'DS_CATEGORIA_ADMINISTRATIVA', \n",
    "                                           #'DS_ORGANIZACAO_ACADEMICA', 'NO_MUNICIPIO_IES', 'SGL_UF_IES'])"
   ]
  },
  {
   "cell_type": "markdown",
   "metadata": {},
   "source": [
    "3º ETAPA - TRATAMENTO DOS DADOS\n",
    "\n",
    "Nesta etapa os dados foram manipulados realizando a junção entre tabelas.\n",
    "\n",
    "Realizar a junção e a combinação entre dados."
   ]
  },
  {
   "cell_type": "code",
   "execution_count": null,
   "metadata": {},
   "outputs": [],
   "source": []
  },
  {
   "cell_type": "markdown",
   "metadata": {},
   "source": [
    "4º ETAPA - APRESENTAÇÃO DOS RESULTADOS\n",
    "\n",
    "PROBLEMAS:\n",
    "\n",
    "1- IDENTIFICAR A QUANTIDADE DE ALUNOS COM DEFICIÊNCIA QUE CONCLUÍRAM O ENSINO SUPERIOR.\n",
    "    1. a) IDENTIFICAR A MAIOR E A MENOR QUANTIDADE DE ALUNO POR DEFICIÊNCIA\n",
    "    1. B) QUAIS OS CURSOS QUE MAIS TIVERAM ALUNOS COM DEFICIÊNCIA FORMADOS \n",
    "    1. C) QUAIS OS CURSOS QUE MAIS TIVERAM ALUNOS COM DEFICIÊNCIA COM MATRICULA TRANCADA OU TRANSFERIDA\n",
    "\n",
    "2 - IDENTIFICAR A QUANTIDADE DE ALUNOS INDIGENAS QUE CONCLUÍRAM O ENSINO SUPERIOR.\n",
    "    2. a) IDENTIFICAR A MAIOR E A MENOR QUANTIDADE DE ALUNO POR CURSO\n",
    "    2. B) QUAIS OS CURSOS QUE MAIS TIVERAM ALUNOS INDIGENAS FORMADOS \n",
    "    2. C) QUAIS OS CURSOS QUE MAIS TIVERAM ALUNOS INDIGENAS COM MATRICULA TRANCADA OU TRANSFERIDA\n",
    "\n",
    "3 - IDENTIFICAR A QUANTIDADE DE ALUNOS QUE NÃO NASCERAM NA CIDADE EM QUE CURSAM O CURSO SUPERIOR.\n",
    "\n",
    "4 - IDENTIFICAR A QUANTIDADE DE ALUNOS INDIGENAS E A LOCALIDADE EM QUE NASCERAM, A LOCALIZADA EM QUE REALIZAM O CURSO E O PERCENTUAL DE ALUNOS FORMADOS PELO PERCENTUAL DA POPULAÇÃO INDIGENA QUE HÁ NO BRASIL SEGUNDO IBGE.\n",
    "\n",
    "5 - IDENTIFICAR A QUANTIDADE DE ALUNOS COM DEFICIÊNCIA E A LOCALIDADE EM QUE NASCERAM, A LOCALIZADA EM QUE REALIZAM O CURSO E O PERCENTUAL DE ALUNOS FORMADOS PELO PERCENTUAL DA POPULAÇÃO COM DEFICIÊNCIA QUE HÁ NO BRASIL SEGUNDO IBGE.\n"
   ]
  },
  {
   "cell_type": "code",
   "execution_count": null,
   "metadata": {},
   "outputs": [],
   "source": [
    "import numpy as np\n",
    "import pandas as pd\n",
    "import matplotlib.pyplot as plt\n",
    "plt.style.use('ggplot')\n",
    "\n",
    "\n",
    "# Plotando um gráfico\n",
    "\n",
    "#data_ies_colunas.plot(kind='bar', figsize=(11,5), rot=0, color='green')\n",
    "#plt.show()\n"
   ]
  }
 ],
 "metadata": {
  "kernelspec": {
   "display_name": "Python 3",
   "language": "python",
   "name": "python3"
  },
  "language_info": {
   "codemirror_mode": {
    "name": "ipython",
    "version": 3
   },
   "file_extension": ".py",
   "mimetype": "text/x-python",
   "name": "python",
   "nbconvert_exporter": "python",
   "pygments_lexer": "ipython3",
   "version": "3.7.3"
  }
 },
 "nbformat": 4,
 "nbformat_minor": 2
}
