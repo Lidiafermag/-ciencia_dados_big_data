{
 "cells": [
  {
   "cell_type": "markdown",
   "metadata": {},
   "source": [
    "Exercício \n",
    "\n",
    "1 - Usando NumPy, importe o dataset iris mantendo o seu conteúdo intacto"
   ]
  },
  {
   "cell_type": "code",
   "execution_count": 1,
   "metadata": {},
   "outputs": [
    {
     "data": {
      "text/plain": [
       "array([[b'5.1', b'3.5', b'1.4', b'0.2', b'Iris-setosa'],\n",
       "       [b'4.9', b'3.0', b'1.4', b'0.2', b'Iris-setosa'],\n",
       "       [b'4.7', b'3.2', b'1.3', b'0.2', b'Iris-setosa']], dtype=object)"
      ]
     },
     "execution_count": 1,
     "metadata": {},
     "output_type": "execute_result"
    }
   ],
   "source": [
    "import numpy as np\n",
    "\n",
    "iris_dataset_url = 'https://archive.ics.uci.edu/ml/machine-learning-databases/iris/iris.data'\n",
    "colunas = ('sepallength', 'sepalwidth', 'petallength', 'petalwidth', 'species' )\n",
    "\n",
    "iris = np.genfromtxt(iris_dataset_url, delimiter=',', dtype='object', encoding='ascii')\n",
    "\n",
    "print(iris) #imprime toda matriz\n",
    "\n",
    "iris[:3]\n",
    "\n"
   ]
  },
  {
   "cell_type": "markdown",
   "metadata": {},
   "source": [
    "2 - Extraia a coluna species do dataset importado na questão anterior para um vetor unidimensional."
   ]
  },
  {
   "cell_type": "code",
   "execution_count": 7,
   "metadata": {},
   "outputs": [
    {
     "data": {
      "text/plain": [
       "array([b'Iris-setosa', b'Iris-setosa', b'Iris-setosa', b'Iris-setosa',\n",
       "       b'Iris-setosa', b'Iris-setosa', b'Iris-setosa', b'Iris-setosa',\n",
       "       b'Iris-setosa', b'Iris-setosa', b'Iris-setosa', b'Iris-setosa',\n",
       "       b'Iris-setosa', b'Iris-setosa', b'Iris-setosa', b'Iris-setosa',\n",
       "       b'Iris-setosa', b'Iris-setosa', b'Iris-setosa', b'Iris-setosa',\n",
       "       b'Iris-setosa', b'Iris-setosa', b'Iris-setosa', b'Iris-setosa',\n",
       "       b'Iris-setosa', b'Iris-setosa', b'Iris-setosa', b'Iris-setosa',\n",
       "       b'Iris-setosa', b'Iris-setosa', b'Iris-setosa', b'Iris-setosa',\n",
       "       b'Iris-setosa', b'Iris-setosa', b'Iris-setosa', b'Iris-setosa',\n",
       "       b'Iris-setosa', b'Iris-setosa', b'Iris-setosa', b'Iris-setosa',\n",
       "       b'Iris-setosa', b'Iris-setosa', b'Iris-setosa', b'Iris-setosa',\n",
       "       b'Iris-setosa', b'Iris-setosa', b'Iris-setosa', b'Iris-setosa',\n",
       "       b'Iris-setosa', b'Iris-setosa', b'Iris-versicolor',\n",
       "       b'Iris-versicolor', b'Iris-versicolor', b'Iris-versicolor',\n",
       "       b'Iris-versicolor', b'Iris-versicolor', b'Iris-versicolor',\n",
       "       b'Iris-versicolor', b'Iris-versicolor', b'Iris-versicolor',\n",
       "       b'Iris-versicolor', b'Iris-versicolor', b'Iris-versicolor',\n",
       "       b'Iris-versicolor', b'Iris-versicolor', b'Iris-versicolor',\n",
       "       b'Iris-versicolor', b'Iris-versicolor', b'Iris-versicolor',\n",
       "       b'Iris-versicolor', b'Iris-versicolor', b'Iris-versicolor',\n",
       "       b'Iris-versicolor', b'Iris-versicolor', b'Iris-versicolor',\n",
       "       b'Iris-versicolor', b'Iris-versicolor', b'Iris-versicolor',\n",
       "       b'Iris-versicolor', b'Iris-versicolor', b'Iris-versicolor',\n",
       "       b'Iris-versicolor', b'Iris-versicolor', b'Iris-versicolor',\n",
       "       b'Iris-versicolor', b'Iris-versicolor', b'Iris-versicolor',\n",
       "       b'Iris-versicolor', b'Iris-versicolor', b'Iris-versicolor',\n",
       "       b'Iris-versicolor', b'Iris-versicolor', b'Iris-versicolor',\n",
       "       b'Iris-versicolor', b'Iris-versicolor', b'Iris-versicolor',\n",
       "       b'Iris-versicolor', b'Iris-versicolor', b'Iris-versicolor',\n",
       "       b'Iris-versicolor', b'Iris-virginica', b'Iris-virginica',\n",
       "       b'Iris-virginica', b'Iris-virginica', b'Iris-virginica',\n",
       "       b'Iris-virginica', b'Iris-virginica', b'Iris-virginica',\n",
       "       b'Iris-virginica', b'Iris-virginica', b'Iris-virginica',\n",
       "       b'Iris-virginica', b'Iris-virginica', b'Iris-virginica',\n",
       "       b'Iris-virginica', b'Iris-virginica', b'Iris-virginica',\n",
       "       b'Iris-virginica', b'Iris-virginica', b'Iris-virginica',\n",
       "       b'Iris-virginica', b'Iris-virginica', b'Iris-virginica',\n",
       "       b'Iris-virginica', b'Iris-virginica', b'Iris-virginica',\n",
       "       b'Iris-virginica', b'Iris-virginica', b'Iris-virginica',\n",
       "       b'Iris-virginica', b'Iris-virginica', b'Iris-virginica',\n",
       "       b'Iris-virginica', b'Iris-virginica', b'Iris-virginica',\n",
       "       b'Iris-virginica', b'Iris-virginica', b'Iris-virginica',\n",
       "       b'Iris-virginica', b'Iris-virginica', b'Iris-virginica',\n",
       "       b'Iris-virginica', b'Iris-virginica', b'Iris-virginica',\n",
       "       b'Iris-virginica', b'Iris-virginica', b'Iris-virginica',\n",
       "       b'Iris-virginica', b'Iris-virginica', b'Iris-virginica'],\n",
       "      dtype=object)"
      ]
     },
     "execution_count": 7,
     "metadata": {},
     "output_type": "execute_result"
    }
   ],
   "source": [
    "import numpy as np\n",
    "\n",
    "iris_dataset_url = 'https://archive.ics.uci.edu/ml/machine-learning-databases/iris/iris.data'\n",
    "colunas = ('sepallength', 'sepalwidth', 'petallength', 'petalwidth', 'species' )\n",
    "\n",
    "iris = np.genfromtxt(iris_dataset_url, delimiter=',', dtype='object', encoding='ascii')\n",
    "\n",
    "#print(iris) #imprime toda matriz\n",
    "\n",
    "\n",
    "iris[:,4]\n",
    "\n",
    " "
   ]
  },
  {
   "cell_type": "markdown",
   "metadata": {},
   "source": [
    "3 - Calcule a média, mediana e desvio padrão da primeira coluna (sepallength) do dataset Iris."
   ]
  },
  {
   "cell_type": "code",
   "execution_count": 19,
   "metadata": {},
   "outputs": [
    {
     "name": "stdout",
     "output_type": "stream",
     "text": [
      "5.843333333333334\n",
      "5.8\n",
      "0.8253012917851409\n"
     ]
    }
   ],
   "source": [
    "import numpy as np\n",
    "\n",
    "iris_dataset_url = 'https://archive.ics.uci.edu/ml/machine-learning-databases/iris/iris.data'\n",
    "colunas = ('sepallength', 'sepalwidth', 'petallength', 'petalwidth', 'species' )\n",
    "\n",
    "iris = np.genfromtxt(iris_dataset_url, delimiter=',', dtype='object', encoding='ascii')\n",
    "\n",
    "#converter dados da coluna \n",
    "\n",
    "sepallength = iris[:,0].astype(float)\n",
    "\n",
    "media_sepallength = sepallength.mean()\n",
    "mediana_sepallength = np.median(sepallength)\n",
    "desvio_sepallength = np.std(sepallength)\n",
    "\n",
    "print(media_sepallength)\n",
    "print(mediana_sepallength)\n",
    "print(desvio_sepallength)"
   ]
  },
  {
   "cell_type": "markdown",
   "metadata": {},
   "source": [
    "4 - Normalize a coluna (sepallength) do dataset iris de tal forma que o valor mínimo seja zero (0) e o valor máximo seja 1."
   ]
  },
  {
   "cell_type": "code",
   "execution_count": 23,
   "metadata": {},
   "outputs": [
    {
     "name": "stdout",
     "output_type": "stream",
     "text": [
      "[5.1 4.9]\n",
      "[-0.29787234 -0.32608696]\n"
     ]
    }
   ],
   "source": [
    "import numpy as np\n",
    "\n",
    "iris_dataset_url = 'https://archive.ics.uci.edu/ml/machine-learning-databases/iris/iris.data'\n",
    "colunas = ('sepallength', 'sepalwidth', 'petallength', 'petalwidth', 'species' )\n",
    "\n",
    "iris = np.genfromtxt(iris_dataset_url, delimiter=',', dtype='object', encoding='ascii')\n",
    "\n",
    "sepallength = iris[:,0].astype(float)\n",
    "\n",
    "sepal_lengt_min = sepallength.max()\n",
    "sepal_lengt_max = sepallength.min()\n",
    "\n",
    "normalizada_sepallength = (sepallength - sepal_lengt_min) / (sepallength + sepal_lengt_max)\n",
    "\n",
    "print(sepallength[:2])\n",
    "print(normalizada_sepallength[:2])\n"
   ]
  },
  {
   "cell_type": "markdown",
   "metadata": {},
   "source": [
    "5 - Encontre o 5º e o 95º percentil do comprimento das pétalas (sepallength) do dataset Iris."
   ]
  },
  {
   "cell_type": "code",
   "execution_count": 25,
   "metadata": {},
   "outputs": [
    {
     "name": "stdout",
     "output_type": "stream",
     "text": [
      "[4.6   7.255]\n"
     ]
    }
   ],
   "source": [
    "import numpy as np\n",
    "\n",
    "iris_dataset_url = 'https://archive.ics.uci.edu/ml/machine-learning-databases/iris/iris.data'\n",
    "colunas = ('sepallength', 'sepalwidth', 'petallength', 'petalwidth', 'species' )\n",
    "\n",
    "iris = np.genfromtxt(iris_dataset_url, delimiter=',', dtype='object', encoding='ascii')\n",
    "\n",
    "sepallength = iris[:,0].astype(float)\n",
    "\n",
    "sepallength_percentile = np.percentile(sepallength, q = [5,95])\n",
    "\n",
    "print(sepallength_percentile)\n"
   ]
  },
  {
   "cell_type": "markdown",
   "metadata": {},
   "source": [
    "6 - Encontre a quantidade de valores ausentes, bem como a posição deles da primeira coluna da coluna comprimento das pétalas (sepallength), dentro do vetor abaixo:"
   ]
  },
  {
   "cell_type": "code",
   "execution_count": 8,
   "metadata": {},
   "outputs": [
    {
     "name": "stdout",
     "output_type": "stream",
     "text": [
      "Quantidade de valores ausentes:  6\n",
      "Posição dos valores ausentes:   (array([ 31,  36,  63,  66,  78, 144], dtype=int64),)\n"
     ]
    }
   ],
   "source": [
    "import numpy as np\n",
    "\n",
    "iris_dataset_url = 'https://archive.ics.uci.edu/ml/machine-learning-databases/iris/iris.data'\n",
    "colunas = ('sepallength', 'sepalwidth', 'petallength', 'petalwidth', 'species' )\n",
    "\n",
    "iris = np.genfromtxt(iris_dataset_url, delimiter=',', dtype='float', encoding='ascii')\n",
    "\n",
    "iris[np.random.randint(150, size=20), np.random.randint(4, size=20)] = np.nan\n",
    "\n",
    "print(\"Quantidade de valores ausentes: \", np.isnan(iris[:,0]).sum())\n",
    "\n",
    "print(\"Posição dos valores ausentes:  \", np.where(np.isnan(iris[:,0])))\n"
   ]
  },
  {
   "cell_type": "markdown",
   "metadata": {},
   "source": [
    "7 - Filtre o vetor iris_2d do exercício anterior para que ele tenha: (terceira coluna (petallength) > 1.5) && (primeira coluna (sepallength) < 5.0)"
   ]
  },
  {
   "cell_type": "code",
   "execution_count": 20,
   "metadata": {},
   "outputs": [
    {
     "data": {
      "text/plain": [
       "array([[4.8, 3.4, 1.6, 0.2, nan],\n",
       "       [4.8, 3.4, 1.9, 0.2, nan],\n",
       "       [4.7, 3.2, 1.6, 0.2, nan],\n",
       "       [4.8, 3.1, 1.6, 0.2, nan],\n",
       "       [4.9, 2.4, 3.3, 1. , nan],\n",
       "       [4.9, 2.5, 4.5, 1.7, nan]])"
      ]
     },
     "execution_count": 20,
     "metadata": {},
     "output_type": "execute_result"
    }
   ],
   "source": [
    "import numpy as np\n",
    "\n",
    "iris_dataset_url = 'https://archive.ics.uci.edu/ml/machine-learning-databases/iris/iris.data'\n",
    "colunas = ('sepallength', 'sepalwidth', 'petallength', 'petalwidth', 'species' )\n",
    "\n",
    "iris = np.genfromtxt(iris_dataset_url, delimiter=',', dtype='float', encoding='ascii')\n",
    "\n",
    "verifica=(iris[:, 2]>1.5)&(iris[:,0] <5)\n",
    "\n",
    "#iris[:, 2]\n",
    "#iris[:, 0]\n",
    "\n",
    "iris[verifica] "
   ]
  },
  {
   "cell_type": "markdown",
   "metadata": {},
   "source": [
    "8 - Selecione as linhas do vetor iris_2d que não contenham valores nan (Not a Number)"
   ]
  },
  {
   "cell_type": "code",
   "execution_count": 32,
   "metadata": {},
   "outputs": [
    {
     "name": "stdout",
     "output_type": "stream",
     "text": [
      "Linhas sem o valor NaN : []\n"
     ]
    }
   ],
   "source": [
    "import numpy as np\n",
    "\n",
    "iris_dataset_url = 'https://archive.ics.uci.edu/ml/machine-learning-databases/iris/iris.data'\n",
    "colunas = ('sepallength', 'sepalwidth', 'petallength', 'petalwidth', 'species' )\n",
    "\n",
    "iris = np.genfromtxt(iris_dataset_url, delimiter=',', dtype='float', encoding='ascii')\n",
    "\n",
    "iris[np.random.randint(150, size=20), np.random.randint(4, size=20)]= np.nan\n",
    "\n",
    "sem_valor_nan=np.array([~np.any(np.isnan(row)) for row in iris])\n",
    "\n",
    "print(\"Linhas sem o valor NaN :\", iris[sem_valor_nan])\n"
   ]
  },
  {
   "cell_type": "markdown",
   "metadata": {},
   "source": [
    "9 - Encontre a correlação entre a primeira coluna (sepallength) e a (terceira coluna (petallength) no vetor iris_2d.\n",
    "\n",
    "Verifique se o vetor iris_2d possui qualquer valor faltante, caso possui deverá retornar True caso contrário False."
   ]
  },
  {
   "cell_type": "code",
   "execution_count": 67,
   "metadata": {},
   "outputs": [
    {
     "data": {
      "text/plain": [
       "array([nan])"
      ]
     },
     "execution_count": 67,
     "metadata": {},
     "output_type": "execute_result"
    }
   ],
   "source": [
    "import numpy as np\n",
    "\n",
    "iris_dataset_url = 'https://archive.ics.uci.edu/ml/machine-learning-databases/iris/iris.data'\n",
    "#colunas = ('sepallength', 'sepalwidth', 'petallength', 'petalwidth', 'species' )\n",
    "\n",
    "iris = np.genfromtxt(iris_dataset_url, delimiter=',', dtype='float', encoding='ascii')\n",
    "\n",
    "iris[np.random.randint(150, size=20), np.random.randint(4, size=20)]= np.nan\n",
    "\n",
    "np.correlate(iris[:,0], iris[:,2])\n",
    "\n",
    "#print(iris[:,0], \"\\n\\n\\n\", iris[:,2])\n",
    "\n"
   ]
  },
  {
   "cell_type": "markdown",
   "metadata": {},
   "source": [
    "10 - Substitua todas as ocorrências de nan (Not a Number) por zeros em um vetor NumPy."
   ]
  },
  {
   "cell_type": "code",
   "execution_count": null,
   "metadata": {},
   "outputs": [],
   "source": [
    "import numpy as np\n",
    "\n",
    "iris_dataset_url = 'https://archive.ics.uci.edu/ml/machine-learning-databases/iris/iris.data'\n",
    "#colunas = ('sepallength', 'sepalwidth', 'petallength', 'petalwidth', 'species' )\n",
    "\n",
    "iris = np.genfromtxt(iris_dataset_url, delimiter=',', dtype='float', encoding='ascii')\n",
    "\n",
    "iris[np.random.randint(150, size=20), np.random.randint(4, size=20)]= np.nan\n",
    "\n"
   ]
  }
 ],
 "metadata": {
  "kernelspec": {
   "display_name": "Python 3",
   "language": "python",
   "name": "python3"
  },
  "language_info": {
   "codemirror_mode": {
    "name": "ipython",
    "version": 3
   },
   "file_extension": ".py",
   "mimetype": "text/x-python",
   "name": "python",
   "nbconvert_exporter": "python",
   "pygments_lexer": "ipython3",
   "version": "3.6.5"
  }
 },
 "nbformat": 4,
 "nbformat_minor": 2
}
