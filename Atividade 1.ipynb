{
 "cells": [
  {
   "cell_type": "code",
   "execution_count": 2,
   "metadata": {},
   "outputs": [
    {
     "name": "stdout",
     "output_type": "stream",
     "text": [
      "Altura: 1.66\n",
      "  Peso: 63.5\n",
      "   IMC: 23.04 \n",
      "IMC:  23.04398316156191\n"
     ]
    }
   ],
   "source": [
    "#Cálculo IMC \n",
    "altura = float (input('Altura: '))\n",
    "peso = float (input('  Peso: '))\n",
    "\n",
    "resultado_imc = peso / (altura * altura)\n",
    "\n",
    "print(\"   IMC: {:.2f} \" .format(resultado_imc))\n",
    "print (\"IMC: \" , + resultado_imc)"
   ]
  },
  {
   "cell_type": "code",
   "execution_count": 3,
   "metadata": {},
   "outputs": [
    {
     "name": "stdout",
     "output_type": "stream",
     "text": [
      "*\n",
      "**\n",
      "***\n",
      "****\n",
      "*****\n"
     ]
    }
   ],
   "source": [
    "#Exercício 1\n",
    "\n",
    "print(\"*\\n**\\n***\\n****\\n*****\")"
   ]
  },
  {
   "cell_type": "code",
   "execution_count": 17,
   "metadata": {},
   "outputs": [
    {
     "name": "stdout",
     "output_type": "stream",
     "text": [
      "X =  2\n",
      "O valor de X  + X é:  4\n",
      "X =  2\n",
      "5  =  5\n"
     ]
    }
   ],
   "source": [
    "#Exercício 2\n",
    "\n",
    "x = 2\n",
    "y = 3\n",
    "    #a)\n",
    "print ( \"X = \", + x )\n",
    "\n",
    "    #b)\n",
    "print (\"O valor de X  + X é: \",(x+x))\n",
    "\n",
    "    #c)\n",
    "print (\"X = \",  x)\n",
    "\n",
    "    #d)\n",
    "print ((x+y),\" = \", + (y+x))"
   ]
  },
  {
   "cell_type": "code",
   "execution_count": 21,
   "metadata": {},
   "outputs": [
    {
     "name": "stdout",
     "output_type": "stream",
     "text": [
      "Nome:Lídia\n",
      "Sobrenome:Fernandes Magalhães\n",
      "Matrícula:102098\n",
      "Matrícula [102098] - LídiaFernandes Magalhães\n"
     ]
    }
   ],
   "source": [
    "#Exercício 3\n",
    "#Escreva um programa que leia o nome, o sobrenome e o número de matrícula de um estudante. \n",
    "#Em seguida, formate e imprima os dados lidos da seguinte forma: [matrícula] nome sobrenome.\n",
    "\n",
    "nome = str(input('Nome:'))\n",
    "sobrenome = str(input('Sobrenome:'))\n",
    "matricula = int(input ('Matrícula:'))\n",
    "\n",
    "print ('Matrícula [{}] - {:s}{:s}' .format (matricula, nome, sobrenome))\n"
   ]
  },
  {
   "cell_type": "code",
   "execution_count": 23,
   "metadata": {},
   "outputs": [
    {
     "name": "stdout",
     "output_type": "stream",
     "text": [
      "Digite um número:2\n",
      "Digite outro número:2\n",
      "Resultado da soma: 4.00 \n",
      "Resultado da subtração: 0.00 \n",
      "Resultado da multiplicação: 4.00  \n",
      "Resultado da divisão 1.00 \n",
      " \n"
     ]
    }
   ],
   "source": [
    "#Exercício 4 \n",
    "#Escreva um programa que solicite do usuário dois números, e imprima o resultado da soma, subtração, multiplicação e divisão.\n",
    "\n",
    "numero_1 = float(input('Digite um número:'))\n",
    "numero_2 = float(input('Digite outro número:'))\n",
    "\n",
    "soma = numero_1 + numero_2\n",
    "subtracao = numero_1 - numero_2\n",
    "multiplicacao = numero_1 * numero_2\n",
    "divisao = numero_1 / numero_2\n",
    "\n",
    "print ('Resultado da soma: {:.2f} \\nResultado da subtração: {:.2f} \\nResultado da multiplicação: {:.2f}  \\nResultado da divisão {:.2f} \\n '.format (soma,subtracao, multiplicacao, divisao))"
   ]
  },
  {
   "cell_type": "code",
   "execution_count": 24,
   "metadata": {},
   "outputs": [
    {
     "name": "stdout",
     "output_type": "stream",
     "text": [
      "Digite o valor do raio: 6.8\n",
      "Diâmetro: 13.60 \n",
      "Circunferência: 42.73 \n",
      "Área: 145.27\n"
     ]
    }
   ],
   "source": [
    "#Exercício 5\n",
    "#Escreva um programa que receba como entrada o raio de um círculo e imprima o diâmetro, a circunferência e a área. \n",
    "#Para isso, utilize as fórmulas: diâmetro = 2r; circunferência = 2πr, área = πr².\n",
    "\n",
    "import math\n",
    "raio = float(input(\"Digite o valor do raio: \"))\n",
    "\n",
    "calculo_diametro = 2 * raio\n",
    "calculo_circunferencia = 2 * math.pi * raio\n",
    "calculo_area = math.pi * raio ** 2\n",
    "\n",
    "print ('Diâmetro: {:.2f} \\nCircunferência: {:.2f} \\nÁrea: {:.2f}' .format (calculo_diametro,calculo_circunferencia,calculo_area) )"
   ]
  },
  {
   "cell_type": "code",
   "execution_count": null,
   "metadata": {},
   "outputs": [],
   "source": [
    "#Exercício 6\n",
    "#Escreva um programa que receba como entrada um número de 5 dígitos, separe o número em dígitos individuais e os imprima separados por 3 espaços cada um. \n",
    "#Por exemplo, se o usuário digitar 42339, o programa deverá imprimir: 4 2 3 3. \n",
    "#Dica: utilize as operações de divisão e módulo para extrair cada dígito do número.\n",
    "\n",
    "numero = int(input(\"Digite um número de 5 dígitos: \"))\n",
    "\n",
    "digito_5 = (numero % 10)\n",
    "digito_4 = (numero % 100) / 10\n",
    "digito_3 = (numero % 1000) / 100\n",
    "digito_2 = (numero % 10000) / 1000\n",
    "digito_1 = (numero % 100000) / 10000\n",
    "\n",
    "\n",
    "print ('Digito 1: {:.2f} \\nDigito 2: {:.2f} \\nDigito 3: {:.2f}\\nDigito 4: {:.2f}\\nDigito 5: {:.2f}' .format (digito_1,digito_2,digito_3,digito_4,digito_5 )\n",
    "\n",
    "\n"
   ]
  }
 ],
 "metadata": {
  "kernelspec": {
   "display_name": "Python 3",
   "language": "python",
   "name": "python3"
  },
  "language_info": {
   "codemirror_mode": {
    "name": "ipython",
    "version": 3
   },
   "file_extension": ".py",
   "mimetype": "text/x-python",
   "name": "python",
   "nbconvert_exporter": "python",
   "pygments_lexer": "ipython3",
   "version": "3.7.3"
  }
 },
 "nbformat": 4,
 "nbformat_minor": 2
}
