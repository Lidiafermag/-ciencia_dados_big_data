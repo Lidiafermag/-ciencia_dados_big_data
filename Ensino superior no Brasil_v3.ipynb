{
 "cells": [
  {
   "cell_type": "markdown",
   "metadata": {},
   "source": [
    "ANÁLISE DE DADOS UTILIZANDO PYTHON\n",
    "\n",
    "1º EATAPA - DADOS\n",
    "   \n",
    "Será realizada a análise de dados referente a Educação Superior no Brasil, para isso, foram utilizadas base de dados disponibilizadas pelo Instituto Nacional de Estudos e Pesquisas Educacionais Anísio Teixeira Legislação e Documentos - INEP.\n",
    "\n",
    "Diante da diversidade que há no Brasil e da atual discusão referente a inclusão social e a adoção de politicas públicas em prol das minorias. Esta análise visa identificar o quantitativo de alunos indigenas e com deficiência que concluíram um curso superior entre o período de 2013 a 2017 no Brasil. Bem como a relação desse quantitativo com o quantitativo global da população indigena e da população de pessoas com deficiência.\n",
    "\n",
    "Foram utilizados os dados diponíveis no link: http://portal.inep.gov.br/microdados, opção Censo da Educação superior, anos de 2013 a 2017.\n"
   ]
  },
  {
   "cell_type": "code",
   "execution_count": 1,
   "metadata": {
    "scrolled": false
   },
   "outputs": [],
   "source": [
    "import numpy as np\n",
    "import pandas as pd\n",
    "import matplotlib.pyplot as plt\n",
    "plt.style.use('ggplot')\n",
    "\n",
    "#Extraindo as bases ano 2017\n",
    "\n",
    "#Ano 2017\n",
    "#data_ies = pd.read_csv(\"Desktop\\Dados\\ies.csv\", sep=\"|\", encoding=\"ANSI\")\n",
    "#data_ies\n",
    "data_curso = pd.read_csv(\"Desktop\\Dados\\curso.csv\", sep=\"|\", dtype=object, encoding=\"ANSI\")\n",
    "#data_curso\n",
    "#data_docente = pd.read_csv(\"Desktop\\Dados\\docente.csv\", sep=\"|\", encoding=\"ANSI\")\n",
    "#data_docente\n",
    "#data_local_oferta = pd.read_csv(\"Desktop\\Dados\\local_oferta.csv\", sep=\"|\", encoding=\"ANSI\")\n",
    "#data_local_oferta\n",
    "Diretorio= r\"Desktop\\Dados\\aluno.csv\"\n",
    "data_aluno = pd.read_csv(Diretorio, sep=\"|\", dtype=object, encoding=\"ANSI\")\n",
    "\n",
    "\n",
    "#data_aluno = pd.DataFrame(data_aluno,columns=['IN_TGD_AUTISMO'])\n",
    "\n"
   ]
  },
  {
   "cell_type": "markdown",
   "metadata": {},
   "source": [
    "2º ETAPA - TRATAMENTO DOS DADOS\n",
    "\n",
    "2.1 LIMPEZA E PREPARAÇÃO DOS DADOS\n",
    "\n",
    "Nesta etapa foram tratados:\n",
    "- Os dados foram manipulados realizando a junção e combinação entre tabelas.\n",
    "- Os dados ausentes. \n",
    "- Foram identificados os dados ausentes e substituídos por dados.\n",
    "\n",
    "\n"
   ]
  },
  {
   "cell_type": "code",
   "execution_count": 2,
   "metadata": {},
   "outputs": [],
   "source": [
    "import numpy as np\n",
    "import pandas as pd\n",
    "import matplotlib.pyplot as plt\n",
    "plt.style.use('ggplot')\n",
    "\n",
    "#Criando Data Frame com as colunas necessárias e juntatando as colunas que serão utilizadas\n",
    "\n",
    "aluno = pd.DataFrame(data_aluno, columns=['CO_OCDE','CO_CURSO','CO_ALUNO_CURSO','TP_DEFICIENCIA','IN_DEFICIENCIA_AUDITIVA',\n",
    "                                          'IN_DEFICIENCIA_FISICA','IN_DEFICIENCIA_INTELECTUAL','IN_DEFICIENCIA_MULTIPLA',\n",
    "                                          'IN_DEFICIENCIA_SURDEZ','IN_DEFICIENCIA_SURDOCEGUEIRA','IN_DEFICIENCIA_BAIXA_VISAO',\n",
    "                                          'IN_DEFICIENCIA_CEGUEIRA','IN_DEFICIENCIA_SUPERDOTACAO','IN_TGD_AUTISMO',\n",
    "                                          'IN_TGD_TRANSTOR_DESINTEGRATIVO','TP_SITUACAO','TP_COR_RACA','CO_UF_NASCIMENTO'])\n",
    "\n",
    "\n",
    "curso = pd.DataFrame(data_curso, columns=['CO_OCDE','CO_CURSO' ,'NO_CURSO'])\n",
    "\n",
    "aluno_curso=pd.merge(curso, aluno, left_index=True, right_index=True)\n",
    "\n",
    "#Renomeando as colunas \n",
    "\n",
    "#aluno.columns = ['Código OCDE Aluno', 'Código do curso ', 'Código Aluno por curso', 'Aluno com Deficiência ', \n",
    "#'Deficiência auditiva', 'Deficiência física', 'Deficiência intelectual','Deficiência Multipla', 'Deficiência Surdez',\n",
    "#'Deficiência Surdocegueira', 'Deficiência Baixa Visão', 'Deficiência Cegueira', 'Deficiência Superdotação', 'Autismo',\n",
    "#'Transtorno desintegrativo', 'Situação Matrícula', 'Raça/Cor', 'UF de Nascimento']\n",
    "#curso.columns = ['Código OCDE Curso ', 'Código do Curso', 'Nome do curso']\n",
    "\n",
    "# Identificando dados faltantes\n",
    "\n",
    "aluno_curso.isnull().sum()\n",
    "\n",
    "# Substituindo os dados faltantes pela expressão \"Não se aplica\" e \"Não informado\"\n",
    "\n",
    "aluno_curso.update(aluno_curso['IN_DEFICIENCIA_AUDITIVA'].fillna('Não se aplica'))\n",
    "aluno_curso.update(aluno_curso['IN_DEFICIENCIA_FISICA'].fillna('Não se aplica'))\n",
    "aluno_curso.update(aluno_curso['IN_DEFICIENCIA_INTELECTUAL'].fillna('Não se aplica'))\n",
    "aluno_curso.update(aluno_curso['IN_DEFICIENCIA_MULTIPLA'].fillna('Não se aplica'))\n",
    "aluno_curso.update(aluno_curso['IN_DEFICIENCIA_SURDEZ'].fillna('Não se aplica'))\n",
    "aluno_curso.update(aluno_curso['IN_DEFICIENCIA_SURDOCEGUEIRA'].fillna('Não se aplica'))\n",
    "aluno_curso.update(aluno_curso['IN_DEFICIENCIA_BAIXA_VISAO'].fillna('Não se aplica'))\n",
    "aluno_curso.update(aluno_curso['IN_DEFICIENCIA_CEGUEIRA'].fillna('Não se aplica'))\n",
    "aluno_curso.update(aluno_curso['IN_DEFICIENCIA_SUPERDOTACAO'].fillna('Não se aplica'))\n",
    "aluno_curso.update(aluno_curso['IN_TGD_AUTISMO'].fillna('Não se aplica'))\n",
    "aluno_curso.update(aluno_curso['IN_TGD_TRANSTOR_DESINTEGRATIVO'].fillna('Não se aplica'))\n",
    "aluno_curso.update(aluno_curso['CO_UF_NASCIMENTO'].fillna('Não informado'))\n",
    "aluno_curso.update(aluno_curso['CO_OCDE_x'].fillna('Não localizado'))\n",
    "\n",
    "\n",
    "# Substituindo valores pela descrição (Alteração realizada com base no dicionário que acompanha a base de dados)\n",
    "\n"
   ]
  },
  {
   "cell_type": "markdown",
   "metadata": {},
   "source": [
    "3º ETAPA - APRESENTAÇÃO DOS RESULTADOS\n",
    "\n",
    "PROBLEMAS:\n",
    "\n",
    "1- IDENTIFICAR A QUANTIDADE DE ALUNOS COM DEFICIÊNCIA QUE CONCLUÍRAM O ENSINO SUPERIOR.\n",
    "    1. a) IDENTIFICAR A MAIOR E A MENOR QUANTIDADE DE ALUNO POR DEFICIÊNCIA\n",
    "    1. B) QUAIS OS CURSOS QUE MAIS TIVERAM ALUNOS COM DEFICIÊNCIA FORMADOS \n",
    "    1. C) QUAIS OS CURSOS QUE MAIS TIVERAM ALUNOS COM DEFICIÊNCIA COM MATRICULA TRANCADA OU TRANSFERIDA\n",
    "\n"
   ]
  },
  {
   "cell_type": "code",
   "execution_count": 6,
   "metadata": {},
   "outputs": [
    {
     "ename": "SyntaxError",
     "evalue": "unexpected EOF while parsing (<ipython-input-6-9a0d237d10b3>, line 62)",
     "output_type": "error",
     "traceback": [
      "\u001b[1;36m  File \u001b[1;32m\"<ipython-input-6-9a0d237d10b3>\"\u001b[1;36m, line \u001b[1;32m62\u001b[0m\n\u001b[1;33m    \u001b[0m\n\u001b[1;37m    ^\u001b[0m\n\u001b[1;31mSyntaxError\u001b[0m\u001b[1;31m:\u001b[0m unexpected EOF while parsing\n"
     ]
    }
   ],
   "source": [
    "import numpy as np\n",
    "import pandas as pd\n",
    "import matplotlib.pyplot as plt\n",
    "plt.style.use('ggplot')\n",
    "\n",
    "#Quantidade de alunos com deficiência que concluiram o Ensino Superior\n",
    "\n",
    "#Situação Matrícula (TP_SITUACA)\n",
    "#  6 - Formado\n",
    "#  3 - Matrícula trancada\n",
    "#  5 - Transferido \n",
    "\n",
    "#Aluno com deficiência (TP_DEFICIENCIA)\n",
    "#0 - Não\n",
    "#1 - Sim\n",
    "\n",
    "qtd_def_concluido = aluno_curso[(aluno_curso.TP_SITUACAO == '6') & (aluno_curso.TP_DEFICIENCIA == '1')] [['CO_ALUNO_CURSO','TP_DEFICIENCIA', 'TP_SITUACAO']]\n",
    "#qtd_def_concluido\n",
    "print(\"Total de Alunos formados que possui deficiência:\",len(qtd_def_concluido))\n",
    "\n",
    "\n",
    "#Quantidade de alunos por deficiência  \n",
    "\n",
    "#Aluno com deficiência (para todos os tipos de deficiência)\n",
    "#0 - Não\n",
    "#1 - Sim\n",
    "\n",
    "qtd_por_def_auditiva = aluno_curso[(aluno_curso.IN_DEFICIENCIA_AUDITIVA == '1')]\n",
    "qtd_por_def_fisica =  aluno_curso[(aluno_curso.IN_DEFICIENCIA_FISICA == '1')]     \n",
    "qtd_por_def_intelec =  aluno_curso[(aluno_curso.IN_DEFICIENCIA_INTELECTUAL == '1')]                             \n",
    "qtd_por_def_multipla = aluno_curso[(aluno_curso.IN_DEFICIENCIA_MULTIPLA == '1')]\n",
    "qtd_por_def_surdez = aluno_curso[(aluno_curso.IN_DEFICIENCIA_SURDEZ == '1')]\n",
    "qtd_por_def_surceg =  aluno_curso[(aluno_curso.IN_DEFICIENCIA_SURDOCEGUEIRA == '1')]                       \n",
    "qtd_por_def_bvisao =   aluno_curso[(aluno_curso.IN_DEFICIENCIA_BAIXA_VISAO == '1')]                         \n",
    "qtd_por_def_cegueira = aluno_curso[(aluno_curso.IN_DEFICIENCIA_CEGUEIRA == '1')]\n",
    "qtd_por_def_superdot =  aluno_curso[(aluno_curso.IN_DEFICIENCIA_SUPERDOTACAO == '1')]                              \n",
    "qtd_por_def_autismo =  aluno_curso[(aluno_curso.IN_TGD_AUTISMO == '1')]                     \n",
    "qtd_por_def_desinte =  aluno_curso[(aluno_curso.IN_TGD_TRANSTOR_DESINTEGRATIVO == '1')]    \n",
    "\n",
    "print(\"Total de alunos com deficiência auditiva:\",len(qtd_por_def_auditiva),\n",
    "      \"\\nTotal de alunos com deficiência física:\",len(qtd_por_def_fisica),\n",
    "      \"\\nTotal de alunos com deficiência intelectual:\",len(qtd_por_def_intelec),\n",
    "    \"\\nTotal de alunos com deficiência multipla:\",len(qtd_por_def_multipla),\n",
    "    \"\\nTotal de alunos com deficiência surdez:\",len(qtd_por_def_surdez),\n",
    "    \"\\nTotal de alunos com deficiência surdocegueira:\",len(qtd_por_def_surceg),\n",
    "    \"\\nTotal de alunos com deficiência baixa visão:\",len(qtd_por_def_bvisao),\n",
    "    \"\\nTotal de alunos com deficiência cegueira:\",len(qtd_por_def_cegueira),\n",
    "    \"\\nTotal de alunos com deficiência Super Dotação:\",len(qtd_por_def_superdot),\n",
    "     \"\\nTotal de alunos com deficiência Autismo:\",len(qtd_por_def_desinte),\n",
    "        \"\\nTotal de alunos com transtorno desintegrativo:\",len(qtd_por_def_desinte))\n",
    "   \n",
    "\n",
    "\n",
    "#Quantidade de alunos que declararam deficiência\n",
    "qtd_alunos_deficiencia = aluno_curso[(aluno_curso.TP_DEFICIENCIA == '1')]\n",
    "#qtd_alunos_deficiencia\n",
    "print(\"Quantidade de alunos que declararam deficiência:\",len(qtd_alunos_deficiencia)\n",
    "\n",
    "# Quais cursos com maior número de deficientes formados\n",
    "\n",
    "     \n",
    "      "
   ]
  },
  {
   "cell_type": "markdown",
   "metadata": {},
   "source": [
    "2 - IDENTIFICAR A QUANTIDADE DE ALUNOS INDIGENAS QUE CONCLUÍRAM O ENSINO SUPERIOR.\n",
    "    2. a) IDENTIFICAR A MAIOR E A MENOR QUANTIDADE DE ALUNO POR CURSO\n",
    "    2. B) QUAIS OS CURSOS QUE MAIS TIVERAM ALUNOS INDIGENAS FORMADOS \n",
    "    2. C) QUAIS OS CURSOS QUE MAIS TIVERAM ALUNOS INDIGENAS COM MATRICULA TRANCADA OU TRANSFERIDA\n",
    "\n"
   ]
  },
  {
   "cell_type": "code",
   "execution_count": null,
   "metadata": {},
   "outputs": [],
   "source": [
    "\n",
    "\n",
    "\n",
    "# Plotando gráficos\n",
    "\n",
    "#data_ies_colunas.plot(kind='bar', figsize=(11,5), rot=0, color='green')\n",
    "#plt.show()\n"
   ]
  }
 ],
 "metadata": {
  "celltoolbar": "Raw Cell Format",
  "kernelspec": {
   "display_name": "Python 3",
   "language": "python",
   "name": "python3"
  },
  "language_info": {
   "codemirror_mode": {
    "name": "ipython",
    "version": 3
   },
   "file_extension": ".py",
   "mimetype": "text/x-python",
   "name": "python",
   "nbconvert_exporter": "python",
   "pygments_lexer": "ipython3",
   "version": "3.7.3"
  }
 },
 "nbformat": 4,
 "nbformat_minor": 2
}
